{
 "cells": [
  {
   "cell_type": "markdown",
   "id": "090f7592-acf5-4ac8-8047-66a8237bba66",
   "metadata": {},
   "source": [
    "# Introduction to PyMC\n",
    "\n",
    "This notebook contains a very brief introduction to PyMC.\n",
    "First, we import some dependencies.\n",
    "PyMC is used to build probabilistic models and run inference.\n",
    "Arviz can be used to visualize the results.\n",
    "In addition, we will use numpy to work with arrays of data."
   ]
  },
  {
   "cell_type": "code",
   "execution_count": null,
   "id": "cc5b242a-894b-4d59-b251-1d2da6f1d828",
   "metadata": {},
   "outputs": [],
   "source": [
    "import pymc as pm\n",
    "import arviz as az\n",
    "\n",
    "import numpy as np"
   ]
  },
  {
   "cell_type": "markdown",
   "id": "ff2eec9f-aaba-4058-ba4b-19a279566449",
   "metadata": {},
   "source": [
    "## Defining a model\n",
    "\n",
    "When defining a model with PyMC, we need at least two elements:\n",
    "- a `pm.Model` object to store the model\n",
    "- a set of random variables in this model\n",
    "\n",
    "We can create a model using `pm.Model()`.\n",
    "This constructor function can take some optional arguments,\n",
    "as we will see later.\n",
    "The most convenient way to work with a model is to use a `with` block,\n",
    "which will \"enter\" the model.\n",
    "All the code in the `with` block will implicitly use this model.\n",
    "If we give the model a name using `with pm.Model() as model_name:`,\n",
    "we can enter it again at a later point using `with model_name`.\n",
    "\n",
    "A model is written as if we would write a program that is supposed to generate the data,\n",
    "i.e., the generative process.\n",
    "Deterministic computations are described as regular code,\n",
    "random decisions use *distributions*.\n",
    "For example, a coin flip is implemented using `pm.Bernoulli()`.\n",
    "Each distribution takes a name that identifies the random variables,\n",
    "as well as the necessary parameters\n",
    "(which could be fixed or themselves the results of random decisions).\n",
    "\n",
    "Let's start by implementing a simple version of the regularity model:\n",
    "- we set a fixed regularity $r$\n",
    "- for each pattern $i$ (out of 10):\n",
    "  - for each beat $b$ (out of 2, 3, 4):\n",
    "    - flip a coin($r$) to determine if the previous beat is repeated or not.\n",
    "\n",
    "We can use ordinary `for` loops to implement the loops in this model,\n",
    "but we have to give every variable inside the loops a different name,\n",
    "so we will use the loop index to name the variables.\n",
    "We will see a better way to implement this later."
   ]
  },
  {
   "cell_type": "code",
   "execution_count": null,
   "id": "edc4ea60-7e0e-4dff-bb3a-05bc0aeab93f",
   "metadata": {},
   "outputs": [],
   "source": [
    "with pm.Model() as regularity_model_gen:\n",
    "    # set the regularity\n",
    "    regularity = 0.1\n",
    "    for i in range(10): # generate 10 patterns\n",
    "        for beat in range(1,4): # beats 2-4\n",
    "            # sample each beat in each pattern\n",
    "            pm.Bernoulli(f\"pattern{i}_b{beat}\", # name of the variable\n",
    "                         regularity, # parameter of the distribution\n",
    "                        )"
   ]
  },
  {
   "cell_type": "markdown",
   "id": "cafc4c34-b746-4838-afa6-aa6a43e7bf39",
   "metadata": {},
   "source": [
    "Let's look at the architecture of this model:"
   ]
  },
  {
   "cell_type": "code",
   "execution_count": null,
   "id": "e8569654-b60b-4280-99a4-684fdc5f60a1",
   "metadata": {},
   "outputs": [],
   "source": [
    "pm.model_to_graphviz(regularity_model_gen)"
   ]
  },
  {
   "cell_type": "markdown",
   "id": "57043485-4323-41f7-8404-b41b262fdb13",
   "metadata": {},
   "source": [
    "As you can see, the model consists of a series of independent variables,\n",
    "one for each beat in each pattern.\n",
    "\n",
    "We can run this model as it is using the function `pm.sample_prior_predictive(n)`,\n",
    "where `n` determines the numbers of draws.\n",
    "To draw from the model once, we first enter the model again (using `with`)\n",
    "and then call the function with `n=1`:"
   ]
  },
  {
   "cell_type": "code",
   "execution_count": null,
   "id": "a3a09490-15ae-463b-8e9d-2e3c10c7f3e3",
   "metadata": {},
   "outputs": [],
   "source": [
    "with regularity_model_gen:\n",
    "    output1 = pm.sample_prior_predictive(1)"
   ]
  },
  {
   "cell_type": "markdown",
   "id": "e4c9876c-fb6e-45d8-896b-36a67b5b27a6",
   "metadata": {},
   "source": [
    "Let's look at the output. we get an object of type `InferenceData`\n",
    "which can hold the outputs for several kinds of inferences at the same time.\n",
    "(Sampling from the distribution is one kind of output).\n",
    "\n",
    "If you run this code in a notebook, you can see a nice interactive version of the data,\n",
    "where you can look inside the \"prior\" set.\n",
    "It will contain some metadata (such as dimensions),\n",
    "but most importantly a set of \"data variables\",\n",
    "which are the actual output.\n",
    "You can see one row for each variable of the model,\n",
    "and since we only drew 1 sample from the model,\n",
    "each of them has a single random value."
   ]
  },
  {
   "cell_type": "code",
   "execution_count": null,
   "id": "61cbfc8b-e8a3-4dbf-bbbf-429eb6b3d0c5",
   "metadata": {},
   "outputs": [],
   "source": [
    "output1"
   ]
  },
  {
   "cell_type": "markdown",
   "id": "fe95cb8b-a1a3-406f-b017-e69a2820df4c",
   "metadata": {},
   "source": [
    "## Running inference\n",
    "\n",
    "If we want to run an inference (i.e., obtaining the posterior distribution of the regularity),\n",
    "we need to change the above model a little bit.\n",
    "\n",
    "First of all, we need some data:"
   ]
  },
  {
   "cell_type": "code",
   "execution_count": null,
   "id": "e6fb858f-91e1-4886-bf31-9f635852f873",
   "metadata": {},
   "outputs": [],
   "source": [
    "data_group1 = np.array([\n",
    "    [1, 1, 1], # pattern 1: *rrr\n",
    "    [0, 0, 0], # pattern 2: *nnn\n",
    "    [1, 0, 1], # pattern 3: *rnr\n",
    "])\n",
    "data_group1"
   ]
  },
  {
   "cell_type": "markdown",
   "id": "16311519-76f7-4c6f-933d-c89b45eebb4a",
   "metadata": {},
   "source": [
    "Then we need to change two things in the model.\n",
    "1. The regularity itself needs to be a random variable that is drawn from its prior distribution.\n",
    "2. The model needs to know that we have observations for the data variables.\n",
    "   We can do that by adding the `observed` keyword to the `Bernoulli` distribution\n",
    "   and providing the right value."
   ]
  },
  {
   "cell_type": "code",
   "execution_count": null,
   "id": "f6787eb8-87eb-4da0-8dcf-7bb9e877b965",
   "metadata": {},
   "outputs": [],
   "source": [
    "with pm.Model() as regularity_model_inf:\n",
    "    # sample the regularity from its prior.\n",
    "    # We could also use Beta(1,1), which is a uniform distribution between 0 and 1.\n",
    "    regularity = pm.Beta(\"regularity\", # name of the variable\n",
    "                         0.5, # parameter alpha\n",
    "                         0.5 # parameter beta\n",
    "                        )\n",
    "    for i in range(3): # the data have only 3 patterns\n",
    "        for beat in range(1,4): # beats 2-4\n",
    "            # sample each beat in each pattern\n",
    "            pm.Bernoulli(f\"pattern{i}_b{beat}\", # name of the variable\n",
    "                         regularity, # parameter of the distribution\n",
    "                         observed=data_group1[i, beat-1] # observed value\n",
    "                        )\n",
    "\n",
    "pm.model_to_graphviz(regularity_model_inf)"
   ]
  },
  {
   "cell_type": "markdown",
   "id": "cfbe2da3-8e7c-4b07-aa9d-44debb76ddcf",
   "metadata": {},
   "source": [
    "If we plot the model structure,\n",
    "we still see a bunch of separate varibles for the beats,\n",
    "but all of them are\n",
    "- grey because they are observed now\n",
    "- connected to the regularity variable, because the regularity influences their outcomes.\n",
    "\n",
    "Now we can estimate the posterior distribution by drawing a sample from it with a certain number of draws.\n",
    "The larger the sample size, the more accurate the estimate.\n",
    "This is done using the function `pm.sample()`:"
   ]
  },
  {
   "cell_type": "code",
   "execution_count": null,
   "id": "4142a0d3-498f-4b9c-aa22-901bb7bce6e4",
   "metadata": {},
   "outputs": [],
   "source": [
    "with regularity_model_inf:\n",
    "    idata2 = pm.sample(5000) # draw a sample of size 5000 from the posterior"
   ]
  },
  {
   "cell_type": "markdown",
   "id": "dcdda523-acc1-4d76-980b-30c3e1855fb7",
   "metadata": {},
   "source": [
    "We can look at the inference data just like before.\n",
    "This time, it will contain a `posterior` set,\n",
    "which in turn contains a sample of the latent variable `regularity`."
   ]
  },
  {
   "cell_type": "code",
   "execution_count": null,
   "id": "05f15161-86e5-4f02-98b4-5ff98a9cb768",
   "metadata": {},
   "outputs": [],
   "source": [
    "idata2"
   ]
  },
  {
   "cell_type": "markdown",
   "id": "376d2867-b0c5-4312-93ea-8fb0cfceb4ef",
   "metadata": {},
   "source": [
    "One thing to notice is that the infernce data contains not just 5,000 draws but in fact 20,000.\n",
    "That is because the simluation used to obtain the draws is run several times, in 4 \"chains\" in this case.\n",
    "This makes the results more reliable than running a single long simulation,\n",
    "and the number of chains can be controlled in the `pm.sample()` function.\n",
    "\n",
    "Let's look at the distribution of the sample.\n",
    "We can easily do that using the arviz package,\n",
    "with `az.plot_posterior()`:"
   ]
  },
  {
   "cell_type": "code",
   "execution_count": null,
   "id": "adda284d-ca41-40d1-b14f-701cbf112c38",
   "metadata": {},
   "outputs": [],
   "source": [
    "az.plot_posterior(idata2)"
   ]
  },
  {
   "cell_type": "markdown",
   "id": "656d5ec2-df7e-4672-9e11-64d32d5ad2a9",
   "metadata": {},
   "source": [
    "As you can see, the true regularity underlying the data is probably somewhere around 0.55,\n",
    "but there is a lot of uncertainty because the dataset is so small that a reliable estimate is impossible."
   ]
  },
  {
   "cell_type": "markdown",
   "id": "db349630-fec4-447f-b58a-d37ce15d7a03",
   "metadata": {},
   "source": [
    "## Vectorization\n",
    "\n",
    "If you have worked with python before,\n",
    "you have probably heard that for-loops are slow.\n",
    "When working with larger amounts of data,\n",
    "it is usually a better idea to *vectorize* your code,\n",
    "i.e. to work with arrays of data instead of individual values that you have to iterate over.\n",
    "\n",
    "We can easily do that with our model:\n",
    "All the coin flips work exactly the same,\n",
    "they have the same distribution and only differ in their \"position\"\n",
    "(pattern and beat).\n",
    "With PyMC, we can turn your set of Bernoulli variables into one multi-dimensional\n",
    "(or *multivariate*) variable using the `shape` keyword parameter.\n",
    "In our case, the shape consists of the number of patterns times the number of beats per pattern."
   ]
  },
  {
   "cell_type": "code",
   "execution_count": null,
   "id": "a5bd26f9-87fa-4e25-9050-c86f7497f4d5",
   "metadata": {},
   "outputs": [],
   "source": [
    "with pm.Model() as regularity_model_vec:\n",
    "    # sample the regularity from its prior.\n",
    "    regularity = pm.Beta(\"regularity\", 0.5, 0.5)\n",
    "    # sample each beat in each pattern\n",
    "    pm.Bernoulli(\"repeat\", # name of the variable\n",
    "                 regularity, # parameter of the distribution\n",
    "                 shape=(3,3), # shape of the variable (patters x beats)\n",
    "                 observed=data_group1 # observed data\n",
    "                )\n",
    "\n",
    "pm.model_to_graphviz(regularity_model_vec)"
   ]
  },
  {
   "cell_type": "markdown",
   "id": "a6785f89-0a61-4d4a-bc49-b37d2c9b3fec",
   "metadata": {},
   "source": [
    "This already makes for a much cleaner model (only two variables, one of which is multivariate),\n",
    "and it should also lead to faster performance (at least if the dataset was much larger).\n",
    "\n",
    "But it can be a bit complicated to work with these multi-dimensional variables.\n",
    "For example, which dimension corresponds to the patterns and which to the beats?\n",
    "Both of them have size 3.\n",
    "\n",
    "To make this a bit more explicit, PyMC supports *named dimensions*.\n",
    "Instead of giving the shape of the Bernoulli variable as bare numbers,\n",
    "we can define a set of \"coordinates\" for the pattern and the beat dimension,\n",
    "i.e. lists of possible values that they can take.\n",
    "This is particularly convenient since we not only get a name for each dimension,\n",
    "we can also use other indices than numbers!\n",
    "For example, we care about a repetition for beats 2 - 4,\n",
    "so instead of using the indices 0, 1, and 2, we could use the strings\n",
    "`beat2`, `beat3`, and `beat4`, which is much more semantic.\n",
    "\n",
    "To integrate named dimensions in our model,\n",
    "let's first define the coordinates in a dictionary,\n",
    "mapping a dimension name to the list of values:"
   ]
  },
  {
   "cell_type": "code",
   "execution_count": null,
   "id": "dee3f08c-f541-4eaa-9abf-baf9f07d4079",
   "metadata": {},
   "outputs": [],
   "source": [
    "coords = {\n",
    "    \"pattern\": range(3),\n",
    "    \"beat\": [\"beat2\", \"beat3\", \"beat4\"]\n",
    "}"
   ]
  },
  {
   "cell_type": "markdown",
   "id": "0c40ab49-c08e-4d1f-a955-b7f2e9c0cdd8",
   "metadata": {},
   "source": [
    "If we pass these coordinates to the model,\n",
    "we can use the dimension names to specify the shape of the variables in the model,\n",
    "using the keyword `dims=` instead of `shape=`.\n",
    "We can even see the dimension names in the model plot."
   ]
  },
  {
   "cell_type": "code",
   "execution_count": null,
   "id": "cda31d35-42ca-498b-9198-dea5d8973e58",
   "metadata": {},
   "outputs": [],
   "source": [
    "with pm.Model(coords=coords) as regularity_model_coords:\n",
    "    # sample the regularity from its prior.\n",
    "    regularity = pm.Beta(\"regularity\", 0.5, 0.5)\n",
    "    # sample each beat in each pattern\n",
    "    pm.Bernoulli(\"repeat\", # name of the variable\n",
    "                 regularity, #parameter of the distribution,\n",
    "                 dims=(\"pattern\", \"beat\"), # names of the dimensions (with known coordinates)\n",
    "                 observed=data_group1 # observed data\n",
    "                )\n",
    "\n",
    "pm.model_to_graphviz(regularity_model_coords)"
   ]
  },
  {
   "cell_type": "markdown",
   "id": "388e9a08-2030-417d-b522-04e1c5950f16",
   "metadata": {},
   "source": [
    "Let's now sample from this model's posterior:"
   ]
  },
  {
   "cell_type": "code",
   "execution_count": null,
   "id": "c85dbc24-12df-4f2f-a803-fd3dfcadd4dc",
   "metadata": {},
   "outputs": [],
   "source": [
    "with regularity_model_coords:\n",
    "    idata_coords = pm.sample(5000)\n",
    "\n",
    "idata_coords"
   ]
  },
  {
   "cell_type": "markdown",
   "id": "b8f00591-e1d1-4ad2-a791-c5aa55d67b43",
   "metadata": {},
   "source": [
    "You might have guessed that the \"dimensions\" `chain` and `draw` are the same kind of dimensions\n",
    "as the dimensions that we defined ourselves.\n",
    "They also both have a set of possible values (coordinates),\n",
    "and we can use them to select draws from the postior sample.\n",
    "The most convenient way to do that is to use the method `.sel()`,\n",
    "with the dimensions as keyword arguments:"
   ]
  },
  {
   "cell_type": "code",
   "execution_count": null,
   "id": "8cad42ab-3572-4bfc-9fea-3a3656dadf44",
   "metadata": {},
   "outputs": [],
   "source": [
    "idata_coords.posterior.sel(chain=2, draw=238)"
   ]
  },
  {
   "cell_type": "markdown",
   "id": "52f9758c-740b-4def-a21a-b971a9ae2250",
   "metadata": {},
   "source": [
    "This gives you an excerpt (slice) of the entire posterior.\n",
    "You can also zoom in on a single variable using `.data_vars[\"variable\"]`:"
   ]
  },
  {
   "cell_type": "code",
   "execution_count": null,
   "id": "8be802ad-ecf2-4e64-b233-810ea562e755",
   "metadata": {},
   "outputs": [],
   "source": [
    "idata_coords.posterior.data_vars[\"regularity\"].sel(chain=2, draw=238)"
   ]
  },
  {
   "cell_type": "markdown",
   "id": "d2e9dc7c-353e-4e2c-8f9a-eff53c6dbc63",
   "metadata": {},
   "source": [
    "If you want to get the value as it is instead of another `DataArray` object, use `.item()`:"
   ]
  },
  {
   "cell_type": "code",
   "execution_count": null,
   "id": "802e3d7e-5160-463a-aa14-36614a863f9a",
   "metadata": {},
   "outputs": [],
   "source": [
    "idata_coords.posterior.data_vars[\"regularity\"].sel(chain=2, draw=238).item()"
   ]
  },
  {
   "cell_type": "markdown",
   "id": "24af48d8-d858-41b9-bb98-49a50f48b3ef",
   "metadata": {},
   "source": [
    "Here is another little example where we sample new data from the model's prior.\n",
    "Note that the sample values are distributed across two different sets in the inference data:\n",
    "- `prior` for latent variables\n",
    "- `prior_predictive` for variables that would normally be observed"
   ]
  },
  {
   "cell_type": "code",
   "execution_count": null,
   "id": "e12096f2-0688-434f-b33a-6e525f459250",
   "metadata": {},
   "outputs": [],
   "source": [
    "with regularity_model_coords:\n",
    "    # sample 4 new \"datasets\"\n",
    "    idata_coords_prior = pm.sample_prior_predictive(4)\n",
    "\n",
    "idata_coords_prior\n",
    "    \n",
    "for draw in idata_coords_prior.prior.coords[\"draw\"]: # use .coords to iterate over all possible values for \"draw\"\n",
    "    print(f\"draw {draw.item()}:\")\n",
    "    # select the data in the current draw:\n",
    "    patterns = idata_coords_prior.prior_predictive.data_vars[\"repeat\"].sel(chain=0, draw=draw)\n",
    "    for pattern in patterns:\n",
    "        # convert the pattern to a string notation\n",
    "        pstr = \"\".join(np.array([\"n\", \"r\"])[pattern.to_numpy()])\n",
    "        print(f\"  *{pstr}\")"
   ]
  },
  {
   "cell_type": "markdown",
   "id": "5eb61a60-5fa9-406a-8f4e-68bdadb14d88",
   "metadata": {},
   "source": [
    "## Make the model more flexible\n",
    "\n",
    "Another drawback of the above model is that the data are hardcoded.\n",
    "What if we want to run the analysis for a second group of patterns?"
   ]
  },
  {
   "cell_type": "code",
   "execution_count": null,
   "id": "97c5f0ad-4ef0-4784-a56d-6246fd2eeb9f",
   "metadata": {},
   "outputs": [],
   "source": [
    "data_group2 = np.array([\n",
    "    [0, 0, 0], # pattern 1: *nnn\n",
    "    [0, 0, 0], # pattern 2: *nnn\n",
    "    [0, 1, 0], # pattern 3: *nrn\n",
    "    [1, 1, 0], # pattern 4: *rrn\n",
    "])\n",
    "data_group2"
   ]
  },
  {
   "cell_type": "markdown",
   "id": "82e619dc-8594-4093-a963-ac2a28784e2b",
   "metadata": {},
   "source": [
    "We could of course define the model again.\n",
    "Or we could write a function that makes a model given some dataset.\n",
    "However, PyMC also supports exchanging the data of a model,\n",
    "but to do that, it needs to be wrapped in a `pm.MutableData` container:\n",
    "1. Create a `MutableData` container with a name and an intial value (e.g. `data_group1`).\n",
    "2. Instead of the data, use the container for the `observed=` keyword in observed variables.\n",
    "3. Since the size of the data could change (e.g. 3 vs 4 patterns in groups 1 and 2, respectively),\n",
    "   we can't use fixed coordinates for the `\"pattern\"` dimension.\n",
    "   We can still use coordinates for the `\"beat\"` dimension and even an explicitly named `\"pattern\"` dimension in the\n",
    "   `\"repeat\"` variable, but since the size of the `\"pattern\"` dimension changes,\n",
    "   we have to pass an explicit `shape=` keyword to `pm.Bernoulli()`.\n",
    "   The shape is normally a tuple of sizes (e.g. `(4,3)` for the data in group 2),\n",
    "   but since the shape of the variable is the same as the shape of the data,\n",
    "   we can just use the `.shape` attribute of the data container."
   ]
  },
  {
   "cell_type": "code",
   "execution_count": null,
   "id": "07eb8e2e-475f-4a07-9523-096e8312a49e",
   "metadata": {},
   "outputs": [],
   "source": [
    "with pm.Model(coords={\"beat\": [\"beat2\", \"beat3\", \"beat4\"]}) as regularity_model_mut:\n",
    "    # create a container for the data\n",
    "    obs_ = pm.MutableData(\"data\", data_group1) # needs an initial value\n",
    "    # sample the regularity from its prior.\n",
    "    regularity = pm.Beta(\"regularity\", 0.5, 0.5)\n",
    "    # sample each beat in each pattern\n",
    "    pm.Bernoulli(\"repeat\", # name of the variable\n",
    "                 regularity, # parameter of the distribution\n",
    "                 dims=(\"pattern\", \"beat\"), # dimension names\n",
    "                 shape=obs_.shape, # dimension sizes\n",
    "                 observed=obs_ # observed data\n",
    "                )"
   ]
  },
  {
   "cell_type": "code",
   "execution_count": null,
   "id": "3947c185-ba53-4590-a951-3ed5ceed2df1",
   "metadata": {},
   "outputs": [],
   "source": [
    "pm.model_to_graphviz(regularity_model_mut)"
   ]
  },
  {
   "cell_type": "code",
   "execution_count": null,
   "id": "15e5627a-7082-4009-9f1f-4b41ca7b75a6",
   "metadata": {},
   "outputs": [],
   "source": [
    "# observe group 1:\n",
    "with regularity_model_mut:\n",
    "    idata_g1 = pm.sample(5000)\n",
    "\n",
    "az.plot_posterior(idata_g1)"
   ]
  },
  {
   "cell_type": "markdown",
   "id": "0a7a744e-d6f9-431d-906e-ae5c7edcc53f",
   "metadata": {},
   "source": [
    "In order to run the model with the data of group 2,\n",
    "we replace the data in the `MutableData` container using `model.set_data()`.\n",
    "We use the name of the container to determine, which data to replace\n",
    "(there can be more than one data container per model).\n",
    "You can see, that the dimensions of the data and the model change\n",
    "since the second group contains more patterns!"
   ]
  },
  {
   "cell_type": "code",
   "execution_count": null,
   "id": "34f64d2b-4cb9-46b1-8e02-a5bc21c4aa64",
   "metadata": {},
   "outputs": [],
   "source": [
    "regularity_model_mut.set_data(\"data\", data_group2)\n",
    "\n",
    "pm.model_to_graphviz(regularity_model_mut)"
   ]
  },
  {
   "cell_type": "code",
   "execution_count": null,
   "id": "c65492a6-094a-4764-bdf3-d664b2db71a9",
   "metadata": {},
   "outputs": [],
   "source": [
    "# observe group 2:\n",
    "with regularity_model_mut:\n",
    "    idata_g2 = pm.sample(5000)\n",
    "\n",
    "az.plot_posterior(idata_g2)"
   ]
  },
  {
   "cell_type": "markdown",
   "id": "6a1318cb-6afd-4ae8-9b67-45ca901f0df5",
   "metadata": {},
   "source": [
    "## Bonus: Looking inside the Chains\n",
    "\n",
    "The sampling is based on MCMC, so samples are drawn from one or several markov chains.\n",
    "We can look at these chains in several ways.\n",
    "The easiest one is to use `az.plot_trace()` instead of `az.plot_posterior()`.\n",
    "\n",
    "By default. `pm.sample()` uses a \"tuning\" phase:\n",
    "The first 1000 draws from the chain are discarded\n",
    "because they don't reflect the stationary distribution of the chain yet.\n",
    "We can set `tune=0` to see all the samples drawn from the chain."
   ]
  },
  {
   "cell_type": "code",
   "execution_count": null,
   "id": "c2a9a885-8012-4991-bbcc-1354fb2d7f5e",
   "metadata": {},
   "outputs": [],
   "source": [
    "with regularity_model_mut:\n",
    "    idata_notune = pm.sample(tune=0, draws=200, chains=3)\n",
    "\n",
    "az.plot_trace(idata_notune);"
   ]
  },
  {
   "cell_type": "markdown",
   "id": "fa547ac4-3477-41c7-a01a-13c1cdf588b8",
   "metadata": {},
   "source": [
    "In theory, we should run a (sufficiently long) chain for every draw,\n",
    "taking only it's last state:"
   ]
  },
  {
   "cell_type": "code",
   "execution_count": null,
   "id": "36c897bc-9dbc-4b63-be89-0460196cf7ec",
   "metadata": {},
   "outputs": [],
   "source": [
    "import seaborn as sns\n",
    "sns.set_theme()"
   ]
  },
  {
   "cell_type": "code",
   "execution_count": null,
   "id": "e05d3cf9-2001-4848-89da-8d8a03039545",
   "metadata": {},
   "outputs": [],
   "source": [
    "fig = sns.relplot(data=idata_notune.posterior.data_vars['regularity'].to_dataframe(),\n",
    "                 x=\"draw\", y=\"regularity\", row=\"chain\",\n",
    "                 kind=\"line\", aspect=6, height=2)\n",
    "for i, axrow in enumerate(fig.axes):\n",
    "    ax = axrow[0]\n",
    "    ax.plot(199, idata_notune.posterior.regularity.sel(chain=i, draw=199).item(), 'o')\n",
    "fig.savefig(\"presentation/img/mcmc.svg\")"
   ]
  },
  {
   "cell_type": "markdown",
   "id": "2c2bec44-978c-490a-b1e1-69accc24658a",
   "metadata": {},
   "source": [
    "In practice, however,\n",
    "we take all states of the chain except the first few (from the \"tune\" or \"burn-in\" phase):"
   ]
  },
  {
   "cell_type": "code",
   "execution_count": null,
   "id": "b66e1ad1-e323-40c7-b63b-a81ecb9e4445",
   "metadata": {},
   "outputs": [],
   "source": [
    "fig = sns.relplot(data=idata_notune.posterior.data_vars['regularity'].to_dataframe(),\n",
    "                 x=\"draw\", y=\"regularity\", row=\"chain\",\n",
    "                 kind=\"line\", aspect=6, height=2)\n",
    "for i, axrow in enumerate(fig.axes):\n",
    "    ax = axrow[0]\n",
    "    ax.plot(np.arange(50,200), idata_notune.posterior.regularity.sel(chain=i).to_numpy()[range(50,200)], '.')\n",
    "    ax.axvspan(0, 49, color='red', alpha=0.3)\n",
    "fig.savefig(\"presentation/img/mcmc_full.svg\")"
   ]
  }
 ],
 "metadata": {
  "kernelspec": {
   "display_name": "gmth-bayes-tutorial",
   "language": "python",
   "name": "gmth-bayes-tutorial"
  },
  "language_info": {
   "codemirror_mode": {
    "name": "ipython",
    "version": 3
   },
   "file_extension": ".py",
   "mimetype": "text/x-python",
   "name": "python",
   "nbconvert_exporter": "python",
   "pygments_lexer": "ipython3",
   "version": "3.11.6"
  }
 },
 "nbformat": 4,
 "nbformat_minor": 5
}
